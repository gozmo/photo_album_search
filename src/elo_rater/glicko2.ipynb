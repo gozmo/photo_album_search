{
 "cells": [
  {
   "cell_type": "code",
   "execution_count": 1,
   "id": "a7388283",
   "metadata": {},
   "outputs": [],
   "source": [
    "import numpy as np"
   ]
  },
  {
   "cell_type": "code",
   "execution_count": 2,
   "id": "74e9070a",
   "metadata": {},
   "outputs": [],
   "source": [
    "def g(RDi):\n",
    "    q = np.log(10) / 400\n",
    "    \n",
    "    term  = (3 * q**2 * RDi**2) / np.pi**2\n",
    "    \n",
    "    result = 1 / np.sqrt( 1 + term)\n",
    "    return result"
   ]
  },
  {
   "cell_type": "code",
   "execution_count": 3,
   "id": "fb6db3a6",
   "metadata": {},
   "outputs": [],
   "source": [
    "def E(RDi, r0, ri):\n",
    "    exponent = (g(RDi) * (r0 - ri)) / -400\n",
    "    e_out = 1 / (1 + 10**exponent)\n",
    "    return e_out"
   ]
  },
  {
   "cell_type": "code",
   "execution_count": 4,
   "id": "71821701",
   "metadata": {},
   "outputs": [],
   "source": [
    "def d_square(RDs, my_rank, opponent_ranks):\n",
    "    q = np.log(10) / 400\n",
    "    total_sum = 0\n",
    "    for i in range(len(opponent_ranks)):\n",
    "        RDi = RDs[i]\n",
    "        opponent_rank = opponent_ranks[i]\n",
    "        \n",
    "        value = g(RDi)**2 * \\\n",
    "                E(RDi, my_rank, opponent_rank) * \\\n",
    "                (1 - E(RDi, my_rank, opponent_rank))\n",
    "        \n",
    "        total_sum += value\n",
    "    denominator = q**2 * value\n",
    "    \n",
    "    return 1 / denominator"
   ]
  },
  {
   "cell_type": "code",
   "execution_count": 37,
   "id": "79803060",
   "metadata": {},
   "outputs": [],
   "source": [
    "def rank(my_rank, \n",
    "         my_old_rank_deviation,\n",
    "         missed_rank_steps,\n",
    "         games,\n",
    "         opponent_ranks,\n",
    "         opponent_rank_deviations):\n",
    "    c = 34.6\n",
    "    my_rank_deviation = np.sqrt(my_old_rank_deviation**2 + c**2 *missed_rank_steps)\n",
    "    q = np.log(10) / 400\n",
    "    d_square_value = d_square(opponent_rank_deviations, \n",
    "                              my_rank, \n",
    "                              opponent_ranks)\n",
    "\n",
    "    first_factor = q / ((1/my_rank_deviation**2) + (1/d_square_value)) \n",
    "\n",
    "    total_sum = 0\n",
    "    for i in range(len(games)):\n",
    "        game_result = games[i]\n",
    "        RDi = opponent_rank_deviations[i]\n",
    "        opponent_rank = opponent_ranks[i]\n",
    "\n",
    "        value = g(RDi) * (game_result - E(RDi, my_rank, opponent_rank))\n",
    "        total_sum += value\n",
    "\n",
    "    new_rank = my_rank + first_factor*total_sum\n",
    "    a = 1/(my_rank_deviation**2)\n",
    "    b = 1/d_square_value\n",
    "    new_rank_deviation = np.sqrt((a+b)**-1)\n",
    "    return round(new_rank), round(new_rank_deviation)"
   ]
  },
  {
   "cell_type": "code",
   "execution_count": 23,
   "id": "35a13f86",
   "metadata": {},
   "outputs": [],
   "source": [
    "games = [1.0, 0.0, 1.0, 1.0]\n",
    "opponent_ranks = [300, 300, 300, 300]\n",
    "opponent_rank_deviations = [40, 60, 10, 1]"
   ]
  },
  {
   "cell_type": "code",
   "execution_count": 30,
   "id": "1b004f66",
   "metadata": {},
   "outputs": [],
   "source": [
    "my_rank = 300\n",
    "my_rank_deviation = 50\n",
    "\n",
    "missed_ranking_steps = 100"
   ]
  },
  {
   "cell_type": "code",
   "execution_count": 36,
   "id": "796fdbe0",
   "metadata": {},
   "outputs": [
    {
     "name": "stdout",
     "output_type": "stream",
     "text": [
      "651\n",
      "246\n"
     ]
    }
   ],
   "source": [
    "new_rank, new_rank_deviation = rank(my_rank, \n",
    "                                    my_rank_deviation,\n",
    "                                    missed_ranking_steps,\n",
    "                                    games,\n",
    "                                    opponent_ranks,\n",
    "                                    opponent_rank_deviations)\n",
    "print(new_rank)\n",
    "print(new_rank_deviation)"
   ]
  }
 ],
 "metadata": {
  "kernelspec": {
   "display_name": "Python 3 (ipykernel)",
   "language": "python",
   "name": "python3"
  },
  "language_info": {
   "codemirror_mode": {
    "name": "ipython",
    "version": 3
   },
   "file_extension": ".py",
   "mimetype": "text/x-python",
   "name": "python",
   "nbconvert_exporter": "python",
   "pygments_lexer": "ipython3",
   "version": "3.10.6"
  }
 },
 "nbformat": 4,
 "nbformat_minor": 5
}
